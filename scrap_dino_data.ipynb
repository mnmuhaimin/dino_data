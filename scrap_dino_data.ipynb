{
 "cells": [
  {
   "cell_type": "code",
   "execution_count": 1,
   "metadata": {},
   "outputs": [],
   "source": [
    "from bs4 import BeautifulSoup\n",
    "import requests\n",
    "import pandas as pd\n",
    "import warnings\n",
    "import tqdm as tqdm\n",
    "\n",
    "warnings.filterwarnings('ignore', message='Unverified HTTPS request')"
   ]
  },
  {
   "cell_type": "code",
   "execution_count": 2,
   "metadata": {},
   "outputs": [],
   "source": [
    "url = 'https://www.nhm.ac.uk/discover/dino-directory/name/name-az-all.html'"
   ]
  },
  {
   "cell_type": "code",
   "execution_count": 3,
   "metadata": {},
   "outputs": [
    {
     "name": "stdout",
     "output_type": "stream",
     "text": [
      "Status Code:  200\n",
      "\n",
      "First part of HML document fetched as string:\n",
      "\n",
      "<!DOCTYPE html>\r\n",
      "<!--[if lte IE 8 ]>\r\n",
      "<html lang=\"en\" class=\"no-js oldie\">\r\n",
      "<![endif]-->\r\n",
      "<!--[if IE 9 ]>\r\n",
      "<html lang=\"en\" class=\"no-js ie9\">\r\n",
      "<![endif]-->\r\n",
      "<!--[if (gt IE 9)|!(IE)]><!-->\r\n",
      "<html lang=\"en\" class=\"no-js\">\r\n",
      "    <!--<![endif]-->\r\n",
      "\r\n",
      "\r\n",
      "\r\n",
      "\r\n",
      "\r\n",
      "<head>\r\n",
      "\t<meta charset=\"utf-8\" />\r\n",
      "    <meta http-equiv=\"X-UA-Compatible\" content=\"IE=edge,chrome=1\">\r\n",
      "    <meta http-equiv=\"content-type\" content=\"text/html; charset=UTF-8\">\r\n",
      "    \r\n",
      "    <title>The Dino Directory | Natural History Museum</title>\r\n",
      "    <meta name=\"description\" content=\"\">\r\n",
      "    <meta name=\"keywords\" content=\"\">\r\n",
      "\r\n",
      "    \r\n",
      "    \r\n",
      "    <meta property=\"og:title\" content=\"The Dino Directory | Natural History Museum\">\r\n",
      "    <meta property=\"\n"
     ]
    }
   ],
   "source": [
    "response = requests.get(url)\n",
    "\n",
    "print('Status Code: ', response.status_code)\n",
    "html = response.text\n",
    "\n",
    "print('\\nFirst part of HML document fetched as string:\\n')\n",
    "print(html[:700])"
   ]
  },
  {
   "cell_type": "code",
   "execution_count": 4,
   "metadata": {},
   "outputs": [],
   "source": [
    "def get_page_contents(url):\n",
    "    page = requests.get(url, verify = False, headers={\"Accept-Language\": \"en-US\"})\n",
    "    return BeautifulSoup(page.text, \"html.parser\")\n",
    "soup = get_page_contents(url)"
   ]
  },
  {
   "cell_type": "code",
   "execution_count": 5,
   "metadata": {},
   "outputs": [],
   "source": [
    "names_url = soup.findAll('li', class_= 'dinosaurfilter--dinosaur dinosaurfilter--all-list')"
   ]
  },
  {
   "cell_type": "code",
   "execution_count": 6,
   "metadata": {},
   "outputs": [
    {
     "data": {
      "text/plain": [
       "<li class=\"dinosaurfilter--dinosaur dinosaurfilter--all-list\">\n",
       "<a href=\"https://www.nhm.ac.uk/discover/dino-directory/achelousaurus.html\">\n",
       "<p class=\"dinosaurfilter--name dinosaurfilter--name-unhyphenated\">\n",
       "\t\t\t\t\t\t\tAchelousaurus\n",
       "\t\t\t\t\t\t</p>\n",
       "</a>\n",
       "</li>"
      ]
     },
     "execution_count": 6,
     "metadata": {},
     "output_type": "execute_result"
    }
   ],
   "source": [
    "names_url[2]"
   ]
  },
  {
   "cell_type": "code",
   "execution_count": 7,
   "metadata": {},
   "outputs": [],
   "source": [
    "import re\n",
    "regex = re.compile(r'[\\n\\r\\t]')\n",
    "dinosaur_name = [regex.sub(\"\", name.find('p').text) for name in names_url]"
   ]
  },
  {
   "cell_type": "code",
   "execution_count": 8,
   "metadata": {},
   "outputs": [
    {
     "data": {
      "text/plain": [
       "'Achillobator'"
      ]
     },
     "execution_count": 8,
     "metadata": {},
     "output_type": "execute_result"
    }
   ],
   "source": [
    "dinosaur_name[3]"
   ]
  },
  {
   "cell_type": "code",
   "execution_count": 9,
   "metadata": {},
   "outputs": [],
   "source": [
    "dinosaur_url = [link.find('a')['href'] for link in names_url]"
   ]
  },
  {
   "cell_type": "code",
   "execution_count": 10,
   "metadata": {},
   "outputs": [
    {
     "data": {
      "text/plain": [
       "'https://www.nhm.ac.uk/discover/dino-directory/achelousaurus.html'"
      ]
     },
     "execution_count": 10,
     "metadata": {},
     "output_type": "execute_result"
    }
   ],
   "source": [
    "dinosaur_url[2]"
   ]
  },
  {
   "cell_type": "code",
   "execution_count": 11,
   "metadata": {},
   "outputs": [],
   "source": [
    "from tqdm import tqdm"
   ]
  },
  {
   "cell_type": "code",
   "execution_count": 12,
   "metadata": {},
   "outputs": [
    {
     "name": "stderr",
     "output_type": "stream",
     "text": [
      "100%|██████████| 309/309 [00:53<00:00,  5.83it/s]\n"
     ]
    }
   ],
   "source": [
    "test_name = []\n",
    "\n",
    "\n",
    "for unique_url in tqdm(dinosaur_url):\n",
    "    new_soup = get_page_contents(unique_url)\n",
    "    test_name.append(new_soup.find('h1', class_= 'dinosaur--name dinosaur--name-unhyphenated').text)"
   ]
  },
  {
   "cell_type": "code",
   "execution_count": 14,
   "metadata": {},
   "outputs": [
    {
     "data": {
      "text/plain": [
       "'Achelousaurus'"
      ]
     },
     "execution_count": 14,
     "metadata": {},
     "output_type": "execute_result"
    }
   ],
   "source": [
    "test_name[2]"
   ]
  },
  {
   "cell_type": "code",
   "execution_count": 15,
   "metadata": {},
   "outputs": [],
   "source": [
    "dinosaur_name = test_name"
   ]
  },
  {
   "cell_type": "code",
   "execution_count": 16,
   "metadata": {},
   "outputs": [
    {
     "name": "stderr",
     "output_type": "stream",
     "text": [
      "100%|██████████| 309/309 [00:54<00:00,  5.69it/s]\n"
     ]
    }
   ],
   "source": [
    "pronunciation = []\n",
    "\n",
    "for unique_url in tqdm(dinosaur_url):\n",
    "    new_soup = get_page_contents(unique_url)\n",
    "    pronunciation.append(new_soup.find('dd', class_='dinosaur--pronunciation').text)"
   ]
  },
  {
   "cell_type": "code",
   "execution_count": 17,
   "metadata": {},
   "outputs": [
    {
     "data": {
      "text/plain": [
       "'ah-KEL-oo-SORE-us'"
      ]
     },
     "execution_count": 17,
     "metadata": {},
     "output_type": "execute_result"
    }
   ],
   "source": [
    "pronunciation[2]"
   ]
  },
  {
   "cell_type": "code",
   "execution_count": 18,
   "metadata": {},
   "outputs": [
    {
     "name": "stderr",
     "output_type": "stream",
     "text": [
      "100%|██████████| 309/309 [00:52<00:00,  5.90it/s]\n"
     ]
    }
   ],
   "source": [
    "name_meaning = []\n",
    "\n",
    "for unique_url in tqdm(dinosaur_url):\n",
    "    new_soup = get_page_contents(unique_url)\n",
    "    name_meaning.append(new_soup.find('dd', class_='dinosaur--meaning').text)"
   ]
  },
  {
   "cell_type": "code",
   "execution_count": 19,
   "metadata": {},
   "outputs": [
    {
     "data": {
      "text/plain": [
       "\"'Achelous' lizard'\""
      ]
     },
     "execution_count": 19,
     "metadata": {},
     "output_type": "execute_result"
    }
   ],
   "source": [
    "name_meaning[2]"
   ]
  },
  {
   "cell_type": "code",
   "execution_count": 20,
   "metadata": {},
   "outputs": [
    {
     "name": "stderr",
     "output_type": "stream",
     "text": [
      "100%|██████████| 309/309 [00:50<00:00,  6.16it/s]\n"
     ]
    }
   ],
   "source": [
    "#get all\n",
    "\n",
    "dino_img = []\n",
    "length = []\n",
    "dino_type = []\n",
    "diet_type = []\n",
    "living_period = []\n",
    "living_area = []\n",
    "taxonomy = []\n",
    "named_by = []\n",
    "species_type = []\n",
    "\n",
    "for unique_url in tqdm(dinosaur_url):\n",
    "    new_soup = get_page_contents(unique_url)\n",
    "    \n",
    "    #get image\n",
    "    try:\n",
    "        image = new_soup.find('img', class_='dinosaur--image')['src']\n",
    "    except:\n",
    "        image = ''\n",
    "    dino_img.append(image)\n",
    "        \n",
    "    \n",
    "    #dino length\n",
    "    try:\n",
    "        length_data = new_soup.find('dl', class_='dinosaur--description dinosaur--list').find_all('dd')[1].text\n",
    "    except IndexError:\n",
    "        length_data = ''\n",
    "    length.append(length_data)\n",
    "    \n",
    "    #get type\n",
    "    try:\n",
    "        type = new_soup.find('dl', class_='dinosaur--description dinosaur--list').find('dd').find('a').text.strip()\n",
    "    except:\n",
    "        type = ''\n",
    "    dino_type.append(type)\n",
    "    \n",
    "    #get diet type\n",
    "    try:\n",
    "        diet = new_soup.find('dl', class_='dinosaur--info dinosaur--list').find_all('dd')[0].text.strip()\n",
    "    except IndexError:\n",
    "        diet = ''\n",
    "    diet_type.append(diet)\n",
    "    \n",
    "    #get taxonomy\n",
    "    try:\n",
    "        taxo = new_soup.find('dl', class_='dinosaur--taxonomy dinosaur--list').find_all('dd')[0].text.strip()\n",
    "    except IndexError:\n",
    "        taxo = ''\n",
    "    taxonomy.append(taxo)\n",
    "    \n",
    "    #get named_by\n",
    "    try:\n",
    "        named = new_soup.find('dl', class_='dinosaur--taxonomy dinosaur--list').find_all('dd')[1].text.strip()\n",
    "    except IndexError:\n",
    "        named = ''\n",
    "    named_by.append(named)\n",
    "    \n",
    "    #get species type\n",
    "    try:\n",
    "        species = new_soup.find('dl', class_='dinosaur--taxonomy dinosaur--list').find_all('dd')[2].text.strip()\n",
    "    except IndexError:\n",
    "        species = ''\n",
    "    species_type.append(species)\n",
    "    "
   ]
  },
  {
   "cell_type": "code",
   "execution_count": 21,
   "metadata": {},
   "outputs": [
    {
     "name": "stderr",
     "output_type": "stream",
     "text": [
      "100%|██████████| 309/309 [01:06<00:00,  4.67it/s]\n"
     ]
    }
   ],
   "source": [
    "#get living period test\n",
    "for unique_url in tqdm(dinosaur_url):\n",
    "    new_soup = get_page_contents(unique_url)\n",
    "    \n",
    "    try:\n",
    "        period = new_soup.find('dl', class_='dinosaur--info dinosaur--list').find_all('dd')[1].text.strip()\n",
    "    except IndexError:\n",
    "        period = ''\n",
    "    living_period.append(period)\n",
    "    "
   ]
  },
  {
   "cell_type": "code",
   "execution_count": 26,
   "metadata": {},
   "outputs": [
    {
     "data": {
      "text/plain": [
       "['Early Jurassic, 199-189 million years ago',\n",
       " 'Late Cretaceous, 74-70 million years ago',\n",
       " 'Late Cretaceous, 83-70 million years ago',\n",
       " 'Late Cretaceous, 99-84 million years ago',\n",
       " 'Early Cretaceous, 115-105 million years ago',\n",
       " 'Late Cretaceous, 98-93 million years ago',\n",
       " 'Early Cretaceous, 132-121 million years ago',\n",
       " 'Late Jurassic, 169-159 million years ago',\n",
       " 'Late Cretaceous, 70-65 million years ago',\n",
       " 'Late Cretaceous, 80-75 million years ago',\n",
       " 'saw-edged, flesh-slicing teeth',\n",
       " 'Late Cretaceous, 90-70 million years ago',\n",
       " 'Late Cretaceous, 71-65 million years ago',\n",
       " 'dagger-like with serrated edges',\n",
       " 'Late Cretaceous, 89-85 million years ago',\n",
       " 'teeth for grinding and chewing',\n",
       " 'Early Jurassic, 195-180 million years ago',\n",
       " 'Late Cretaceous, 71-65 million years ago',\n",
       " 'Mid Jurassic, 177-169 million years ago',\n",
       " 'Late Cretaceous, 74-70 million years ago',\n",
       " 'Early Jurassic, 190 million years ago',\n",
       " 'grinding teeth with a horny beak at the front',\n",
       " 'Late Cretaceous, 84-65 million years ago',\n",
       " 'Late Cretaceous, 84-65 million years ago',\n",
       " 'Late Jurassic, 154-145 million years ago',\n",
       " 'Early Cretaceous, 132-121 million years ago',\n",
       " 'Late Cretaceous, 94-84 million years ago',\n",
       " 'Early Cretaceous, 121-99 million years ago',\n",
       " 'many small conical (cone-like) teeth in the upper jaw',\n",
       " 'Late Cretaceous, 95-70 million years ago',\n",
       " 'teeth for grinding and chewing',\n",
       " 'Late Cretaceous, 72-67 million years ago',\n",
       " 'Early Cretaceous, 121-97 million years ago',\n",
       " 'Late Cretaceous, 84-71 million years ago',\n",
       " 'Early Cretaceous, 112-99 million years ago',\n",
       " 'Late Cretaceous, 80-75 million years ago',\n",
       " 'Late Cretaceous, 80-75 million years ago',\n",
       " 'Late Cretaceous, 84-71 million years ago',\n",
       " 'Late Cretaceous, 85-80 million years ago',\n",
       " 'Late Cretaceous, 84-71 million years ago',\n",
       " 'Early Jurassic, 185-170 million years ago',\n",
       " 'Late Jurassic, 155-145 million years ago',\n",
       " 'sharp, finely serrated teeth',\n",
       " 'Early Cretaceous, 142-132 million years ago',\n",
       " 'Early Cretaceous, 127-121 million years ago',\n",
       " 'Mid Jurassic, 180-159 million years ago',\n",
       " 'Late Cretaceous, 84-65 million years ago',\n",
       " 'Late Jurassic, 155-140 million years ago',\n",
       " 'Late Cretaceous, 89-88 million years ago',\n",
       " 'Mid Jurassic, 150 million years ago',\n",
       " 'Late Cretaceous, 99-90 million years ago',\n",
       " 'chisel-like, sharp, snipping teeth',\n",
       " 'beak and grinding teeth',\n",
       " 'Late Cretaceous, 98-94 million years ago',\n",
       " 'Late Cretaceous, 70 million years ago',\n",
       " 'sharp teeth that pointed outwards, at the front of the upper jaw only',\n",
       " 'Early Cretaceous, 142-127 million years ago',\n",
       " 'horny beak',\n",
       " 'Late Jurassic, 150-144 million years ago',\n",
       " 'Mid Jurassic, 175-160 million years ago',\n",
       " 'Mid Jurassic, 170-160 million years ago',\n",
       " 'Late Jurassic, 99-65 million years ago',\n",
       " 'horny beak',\n",
       " 'Late Triassic, 227-210 million years ago',\n",
       " 'Late Jurassic, 159-142 million years ago',\n",
       " 'Late Jurassic, 79-67 million years ago',\n",
       " 'Early Cretaceous, 112-99 million years ago',\n",
       " 'Late Jurassic, 159-142 million years ago',\n",
       " 'Late Cretaceous, 81-75 million years ago',\n",
       " 'small and sharp',\n",
       " 'Late Jurassic, 155-145 million years ago',\n",
       " 'Late Triassic, 221-210 million years ago',\n",
       " 'sharp',\n",
       " 'Late Cretaceous, 81-76 million years ago',\n",
       " 'Early Cretaceous, 127-121 million years ago',\n",
       " 'Late Cretaceous, 76-74 million years ago',\n",
       " 'many sharp and pointed teeth',\n",
       " 'Late Jurassic, 154-150 million years ago',\n",
       " 'Late Cretaceous, 76-74 million years ago',\n",
       " 'Mid Jurassic, 170 million years ago',\n",
       " 'Late Cretaceous, 70-65 million years ago',\n",
       " 'backward-curving',\n",
       " 'Late Cretaceous, 99-94 million years ago',\n",
       " 'Late Jurassic, 150-135 million years ago',\n",
       " 'lots of sharp and curved teeth',\n",
       " 'rows of teeth like a comb',\n",
       " 'small, razor-sharp, backward-curving teeth',\n",
       " 'horny beak',\n",
       " 'Late Jurassic, 155-140 million years ago',\n",
       " 'Late Cretaceous, 84-65 million years ago',\n",
       " 'Late Jurassic, 169-164 million years ago',\n",
       " 'Late Cretaceous, 76-74 million years ago',\n",
       " 'horny beak and 1,000 grinding cheek teeth',\n",
       " 'Late Cretaceous, 74 million years ago',\n",
       " 'Late Jurassic, 154-151 million years ago',\n",
       " 'Mid Jurassic, 190-180 million years ago',\n",
       " 'Late Cretaceous, 99-94 million years ago',\n",
       " 'small, razor-sharp, backward-curving teeth',\n",
       " 'Early Cretaceous, 127-121 million years ago',\n",
       " 'Early Cretaceous, 127-99 million years ago',\n",
       " 'Early Cretaceous',\n",
       " 'Late Cretaceous, 99-89 million years ago',\n",
       " 'Late Jurassic, 154-142 million years ago',\n",
       " 'horny beak and chewing teeth',\n",
       " 'Late Jurassic, 154-151 million years ago',\n",
       " 'Mid Jurassic, 165 million years ago',\n",
       " 'Early Cretaceous, 121-99 million years ago',\n",
       " 'Early Cretaceous, 121-99 million years ago',\n",
       " 'Late Cretaceous, 74-70 million years ago',\n",
       " 'Late Jurassic, 154-142 million years ago',\n",
       " 'Late Cretaceous, 99-89 million years ago',\n",
       " 'Mid Jurassic, 170-160 million years ago',\n",
       " 'Late Cretaceous, 86-71 million years ago',\n",
       " 'Early Cretaceous, 142-127 million years ago',\n",
       " 'long, blade-like and serrated - ideal for slicing',\n",
       " 'Late Cretaceous, 76-70 million years ago',\n",
       " 'Late Jurassic, 154-142 million years ago',\n",
       " 'Early Cretaceous, 121-99 million years ago',\n",
       " 'Late Cretaceous, 80-73 million years ago',\n",
       " 'Late Cretaceous, 81-75 million years ago',\n",
       " 'Late Cretaceous, 99-84 million years ago',\n",
       " 'Late Cretaceous, 86-71 million years ago',\n",
       " 'Late Triassic, 221-210 million years ago',\n",
       " 'Late Jurassic, 159-154 million years ago',\n",
       " 'Late Cretaceous, 78-74 million years ago',\n",
       " 'USA',\n",
       " 'Late Jurassic, 154-142 million years ago',\n",
       " 'Early Cretaceous, 121-99 million years ago',\n",
       " 'Late Triassic, 228 million years ago',\n",
       " 'Late Jurassic, 154-142 million years ago',\n",
       " 'Early Jurassic, 205 million years ago',\n",
       " 'Late Cretaceous, 72-68 million years ago',\n",
       " 'Late Cretaceous, 72-68 million years ago',\n",
       " 'Mid Jurassic, 170-160 million years ago',\n",
       " 'Early Cretaceous, 150-135 million years ago',\n",
       " 'Late Cretaceous, 70 million years ago',\n",
       " 'horny beak, broad, chisel-like teeth',\n",
       " 'chewing cheek teeth and horny beak',\n",
       " 'Late Cretaceous, 71-65 million years ago',\n",
       " 'Early Cretaceous, 112-99 million years ago',\n",
       " 'Late Cretaceous, 71-65 million years ago',\n",
       " 'Late Jurassic, 154-151 million years ago',\n",
       " 'Late Cretaceous, 94-84 million years ago',\n",
       " 'Early Jurassic, 205-190 million years ago',\n",
       " 'Early Cretaceous, 127-121 million years ago',\n",
       " 'Early Cretaceous, 132-94 million years ago',\n",
       " 'Late Jurassic, 154-151 million years ago',\n",
       " 'Late Jurassic, 155-150 million years ago',\n",
       " 'Late Cretaceous, 81-75 million years ago',\n",
       " 'Early Jurassic, 205-180 million years ago',\n",
       " 'Late Cretaceous, 78-74 million years ago',\n",
       " 'Late Cretaceous, 76-74 million years ago',\n",
       " 'Mid Jurassic, 169-164 million years ago',\n",
       " 'Early Cretaceous, 115-110 million years ago',\n",
       " 'Late Cretaceous, 67-65 million years ago',\n",
       " 'small grinding teeth',\n",
       " 'Early Cretaceous, 127-121 million years ago',\n",
       " 'Early Cretaceous, 121-99 million years ago',\n",
       " 'Late Triassic, 205-202 million years ago',\n",
       " 'Late Cretaceous, 84-71 million years ago',\n",
       " 'Early Jurassic, 203-196 million years ago',\n",
       " 'Early Jurassic, 200-195 million years ago',\n",
       " 'Early Cretaceous, 121-112 million years ago',\n",
       " 'Late Triassic, 205-195 million years ago',\n",
       " 'Late Cretaceous, 71-65 million years ago',\n",
       " 'Late Cretaceous, 80-75 million years ago',\n",
       " 'Late Cretaceous, 84-71 million years ago',\n",
       " 'Early Cretaceous, 121-112 million years ago',\n",
       " 'Late Jurassic, 155-145 million years ago',\n",
       " 'Late Cretaceous, 99-94 million years ago',\n",
       " 'Late Jurassic, 154-142 million years ago',\n",
       " 'Late Cretaceous, 84-71 million years ago',\n",
       " 'Early Jurassic, 208-204 million years ago',\n",
       " 'Late Cretaceous, 80 million years ago',\n",
       " 'Mid Jurassic, 170-155 million years ago',\n",
       " 'Late Triassic, 227-221 million years ago',\n",
       " 'Late Jurassic, 159-154 million years ago',\n",
       " 'Late Cretaceous, 86-66 million years ago',\n",
       " 'Late Cretaceous, 84-71 million years ago',\n",
       " 'small, sharp, pointed',\n",
       " 'Early Cretaceous, 121-112 million years ago',\n",
       " 'Mid Jurassic, 180-159 million years ago',\n",
       " 'Late Cretaceous, 81-68 million years ago',\n",
       " 'Late Triassic, 221-210 million years ago',\n",
       " 'Early Cretaceous, 110-100 million years ago',\n",
       " 'Late Cretaceous, 84-71 million years ago',\n",
       " 'Late Cretaceous, 67-65 million years ago',\n",
       " 'Late Cretaceous, 72-68 million years ago',\n",
       " 'Early Cretaceous, 127-121 million years ago',\n",
       " 'Late Cretaceous, 71-65 million years ago',\n",
       " 'Early Cretaceous, 121-99 million years ago',\n",
       " 'Late Cretaceous, 89-84 million years ago',\n",
       " 'Late Cretaceous, 84-65 million years ago',\n",
       " 'Early Cretaceous, 110-100 million years ago',\n",
       " 'Late Cretaceous, 72-68 million years ago',\n",
       " 'Late Cretaceous, 94-89 million years ago',\n",
       " 'Mid Jurassic, 159-132 million years ago',\n",
       " 'Mid Jurassic, 169-159 million years ago',\n",
       " 'Late Cretaceous, 72-68 million years ago',\n",
       " 'Late Jurassic, 150-144 million years ago',\n",
       " 'Late Cretaceous, 74-65 million years ago',\n",
       " 'horny beak, grinding cheek teeth',\n",
       " 'Late Cretaceous, 99-94 million years ago',\n",
       " 'Late Jurassic, 154-142 million years ago',\n",
       " 'Early Cretaceous, 115-100 million years ago',\n",
       " 'beak, no teeth',\n",
       " 'Late Cretaceous, 76-65 million years ago',\n",
       " 'Late Cretaceous, 76-74 million years ago',\n",
       " 'Late Cretaceous, 79-75 million years ago',\n",
       " 'Early Jurassic',\n",
       " 'Late Cretaceous, 99-94 million years ago',\n",
       " 'Late Cretaceous, 76-74 million years ago',\n",
       " 'Late Cretaceous, 76-74 million years ago',\n",
       " 'Mid Jurassic, 164-159 million years ago',\n",
       " 'Early Cretaceous, 127-121 million years ago',\n",
       " 'Early Cretaceous, 125 million years ago',\n",
       " 'Late Cretaceous, 76-74 million years ago',\n",
       " 'Late Jurassic, 164-159 million years ago',\n",
       " 'plants',\n",
       " 'grinding teeth with a horny beak at the front',\n",
       " 'Mid Jurassic, 195-180 million years ago',\n",
       " 'Mid Jurassic, 169-164 million years ago',\n",
       " 'Early Cretaceous, 125 million years ago',\n",
       " 'Late Cretaceous, 80-65 million years ago',\n",
       " 'Early Cretaceous, 121-99 million years ago',\n",
       " 'Mid Jurassic, 169-164 million years ago',\n",
       " 'Late Triassic, 221-210 million years ago',\n",
       " 'Late Cretaceous, 77-75 million years ago',\n",
       " 'Early Cretaceous, 122-120 million years ago',\n",
       " 'shearing and grinding teeth with a horny beak at the front',\n",
       " 'Late Cretaceous, 99-94 million years ago',\n",
       " 'beak',\n",
       " 'Late Cretaceous, 86-84 million years ago',\n",
       " 'Early Cretaceous, 112-99 million years ago',\n",
       " 'Late Cretaceous, 76-70 million years ago',\n",
       " 'Mid Jurassic, 177-169 million years ago',\n",
       " 'Late Cretaceous, 72-68 million years ago',\n",
       " 'Late Triassic, 221-210 million years ago',\n",
       " 'Late Cretaceous, 95 million years ago',\n",
       " 'Late Cretaceous, 80 million years ago',\n",
       " 'Late Cretaceous, 70-65 million years ago',\n",
       " 'Late Triassic, 221-210 million years ago',\n",
       " 'Early Jurassic, 202-195 million years ago',\n",
       " 'Late Cretaceous, 74-70 million years ago',\n",
       " 'Early Cretaceous, 121-94 million years ago',\n",
       " 'Late Jurassic, 154-142 million years ago',\n",
       " 'Late Cretaceous, 85-80 million years ago',\n",
       " 'Early Jurassic, 208-194 million years ago',\n",
       " 'Early Jurassic, 205-202 million years ago',\n",
       " 'Late Cretaceous, 71-65 million years ago',\n",
       " 'Mid Jurassic, 195-180 million years ago',\n",
       " 'Late Cretaceous, 97-88 million years ago',\n",
       " 'Early Cretaceous, 121-99 million years ago',\n",
       " 'Early Cretaceous, 126-142 million years ago',\n",
       " 'Late Cretaceous, 78-74 million years ago',\n",
       " 'Mid Jurassic, 170-160 million years ago',\n",
       " 'Late Cretaceous, 75-81 million years ago',\n",
       " 'Early Cretaceous, 121-112 million years ago',\n",
       " 'Early Cretaceous, 125 million years ago',\n",
       " 'Early Cretaceous, 122-120 million years ago',\n",
       " 'Early Cretaceous, 122-120 million years ago',\n",
       " 'Early Cretaceous, 127-121 million years ago',\n",
       " 'Mid Jurassic, 169-142 million years ago',\n",
       " 'Late Cretaceous, 89-65 million years ago',\n",
       " 'flat and blade-like',\n",
       " 'Late Triassic, 227-221 million years ago',\n",
       " 'Late Cretaceous, 76-74 million years ago',\n",
       " 'Late Jurassic, 155-145 million years ago',\n",
       " 'Early Cretaceous, 127-121 million years ago',\n",
       " 'horny beak, no teeth',\n",
       " 'Late Cretaceous, 83-75 million years ago',\n",
       " 'Late Cretaceous, 76-70 million years ago',\n",
       " 'Early Cretaceous, 121-112 million years ago',\n",
       " 'Early Cretaceous, 154-142 million years ago',\n",
       " 'Late Cretaceous, 99-89 million years ago',\n",
       " 'Late Cretaceous, 89-65 million years ago',\n",
       " 'Late Cretaceous, 74-70 million years ago',\n",
       " 'Late Cretaceous, 75-68 million years ago',\n",
       " 'Late Cretaceous, 84-65 million years ago',\n",
       " 'Early Cretaceous, 120-110 million years ago',\n",
       " 'Late Triassic, 227-205 million years ago',\n",
       " 'Late Cretaceous, 85-70 million years ago',\n",
       " 'Late Cretaceous, 76-67 million years ago',\n",
       " 'Late Cretaceous, 70-65 million years ago',\n",
       " 'Late Jurassic, 155-144 million years ago',\n",
       " 'horny beak and shearing teeth',\n",
       " 'Late Cretaceous, 74-65 million years ago',\n",
       " 'Late Cretaceous, 99-84 million years ago',\n",
       " 'Late Cretaceous, 84-71 million years ago',\n",
       " 'Late Jurassic, 157-154 million years ago',\n",
       " 'Late Cretaceous, 75-72 million years ago',\n",
       " '60 saw-edged, bone-crushing, pointed teeth',\n",
       " 'Late Cretaceous, 81-75 million years ago',\n",
       " 'Late Cretaceous, 94-86 million years ago',\n",
       " 'Late Cretaceous, 95 million years ago',\n",
       " 'lots of sharp, pointed teeth',\n",
       " 'Early Cretaceous, 142-121 million years ago',\n",
       " 'lots of sharp, pointed teeth',\n",
       " 'Early Jurassic, 205-202 million years ago',\n",
       " 'Mid Jurassic, 169-159 million years ago',\n",
       " 'Late Jurassic, 160-144 million years ago',\n",
       " 'Early Jurassic, 195-190 million years ago',\n",
       " 'Late Jurassic, 159-142 million years ago',\n",
       " 'Mid Jurassic, 159-154 million years ago',\n",
       " 'Mid Jurassic, 180-159 million years ago',\n",
       " 'Early Jurassic, 205-190 million years ago',\n",
       " 'Late Cretaceous, 69 million years ago',\n",
       " 'Early Cretaceous, 120-110 million years ago',\n",
       " 'Late Cretaceous, 94-89 million years ago']"
      ]
     },
     "execution_count": 26,
     "metadata": {},
     "output_type": "execute_result"
    }
   ],
   "source": [
    "living_period"
   ]
  },
  {
   "cell_type": "code",
   "execution_count": 33,
   "metadata": {},
   "outputs": [
    {
     "data": {
      "text/plain": [
       "303"
      ]
     },
     "execution_count": 33,
     "metadata": {},
     "output_type": "execute_result"
    }
   ],
   "source": [
    "living_period.index('Mid Jurassic, 159-154 million years ago',)"
   ]
  },
  {
   "cell_type": "code",
   "execution_count": 55,
   "metadata": {},
   "outputs": [
    {
     "data": {
      "text/plain": [
       "'https://www.nhm.ac.uk/discover/dino-directory/gallimimus.html'"
      ]
     },
     "execution_count": 55,
     "metadata": {},
     "output_type": "execute_result"
    }
   ],
   "source": [
    "dinosaur_url[108]"
   ]
  },
  {
   "cell_type": "code",
   "execution_count": 51,
   "metadata": {},
   "outputs": [
    {
     "name": "stdout",
     "output_type": "stream",
     "text": [
      "Mid Jurassic, 159-154 million years ago\n"
     ]
    }
   ],
   "source": [
    "new_soup = get_page_contents('https://www.nhm.ac.uk/discover/dino-directory/yinlong.html')\n",
    "\n",
    "print(new_soup.find('dl', class_='dinosaur--info dinosaur--list').findAll('dd')[1].text.strip())"
   ]
  },
  {
   "cell_type": "code",
   "execution_count": 53,
   "metadata": {},
   "outputs": [],
   "source": [
    "new_soup = get_page_contents('https://www.nhm.ac.uk/discover/dino-directory/gallimimus.html')\n",
    "\n",
    "try:\n",
    "    if new_soup.find('dl', class_='dinosaur--info dinosaur--list').find_all('dt')[4].text.strip() == 'When it lived:':\n",
    "        when = new_soup.find('dl', class_='dinosaur--info dinosaur--list').find_all('dd')[4].text.strip()\n",
    "except IndexError:\n",
    "    if new_soup.find('dl', class_='dinosaur--info dinosaur--list').find_all('dt')[1].text.strip() == 'When it lived:':\n",
    "        when = new_soup.find('dl', class_='dinosaur--info dinosaur--list').find_all('dd')[1].text.strip()\n",
    "except IndexError:\n",
    "    when = ''"
   ]
  },
  {
   "cell_type": "code",
   "execution_count": 54,
   "metadata": {},
   "outputs": [
    {
     "data": {
      "text/plain": [
       "'Late Cretaceous, 74-70 million years ago'"
      ]
     },
     "execution_count": 54,
     "metadata": {},
     "output_type": "execute_result"
    }
   ],
   "source": [
    "when"
   ]
  },
  {
   "cell_type": "code",
   "execution_count": 67,
   "metadata": {},
   "outputs": [
    {
     "name": "stderr",
     "output_type": "stream",
     "text": [
      "100%|██████████| 309/309 [09:31<00:00,  1.85s/it]\n"
     ]
    }
   ],
   "source": [
    "living_period = []\n",
    "\n",
    "#get living period test\n",
    "for unique_url in tqdm(dinosaur_url):\n",
    "    new_soup = get_page_contents(unique_url)\n",
    "    \n",
    "    try:\n",
    "        if new_soup.find('dl', class_='dinosaur--info dinosaur--list').find_all('dt')[4].text.strip() == 'When it lived:':\n",
    "            when = new_soup.find('dl', class_='dinosaur--info dinosaur--list').find_all('dd')[4].text.strip()\n",
    "    except IndexError:\n",
    "        if new_soup.find('dl', class_='dinosaur--info dinosaur--list').find_all('dt')[1].text.strip() == 'When it lived:':\n",
    "            when = new_soup.find('dl', class_='dinosaur--info dinosaur--list').find_all('dd')[1].text.strip()\n",
    "    except IndexError:\n",
    "        when = ''\n",
    "    living_period.append(when)"
   ]
  },
  {
   "cell_type": "code",
   "execution_count": 69,
   "metadata": {},
   "outputs": [
    {
     "name": "stderr",
     "output_type": "stream",
     "text": [
      "100%|██████████| 309/309 [00:26<00:00, 11.79it/s]\n"
     ]
    }
   ],
   "source": [
    "living_area = []\n",
    "\n",
    "#get living period test\n",
    "for unique_url in tqdm(dinosaur_url):\n",
    "    new_soup = get_page_contents(unique_url)\n",
    "    \n",
    "    try:\n",
    "        if new_soup.find('dl', class_='dinosaur--info dinosaur--list').find_all('dt')[5].text.strip() == 'Found in:':\n",
    "            where = new_soup.find('dl', class_='dinosaur--info dinosaur--list').find_all('dd')[5].text.strip()\n",
    "    except IndexError:\n",
    "        if new_soup.find('dl', class_='dinosaur--info dinosaur--list').find_all('dt')[1].text.strip() == 'Found in:':\n",
    "            where = new_soup.find('dl', class_='dinosaur--info dinosaur--list').find_all('dd')[1].text.strip()\n",
    "    except IndexError:\n",
    "        if new_soup.find('dl', class_='dinosaur--info dinosaur--list').find_all('dt')[2].text.strip() == 'Found in:':\n",
    "            where = new_soup.find('dl', class_='dinosaur--info dinosaur--list').find_all('dd')[2].text.strip()\n",
    "    except IndexError:\n",
    "        where = ''\n",
    "    living_area.append(where)"
   ]
  },
  {
   "cell_type": "code",
   "execution_count": 72,
   "metadata": {},
   "outputs": [],
   "source": [
    "living_area = [regex.sub(\"\", area) for area in living_area]"
   ]
  },
  {
   "cell_type": "code",
   "execution_count": 73,
   "metadata": {},
   "outputs": [
    {
     "data": {
      "text/plain": [
       "['Mongolia',\n",
       " 'Mongolia',\n",
       " 'Mongolia',\n",
       " 'Mongolia',\n",
       " 'Mongolia',\n",
       " 'Mongolia',\n",
       " 'Mongolia',\n",
       " 'Mongolia',\n",
       " 'Mongolia',\n",
       " 'Mongolia',\n",
       " 'Canada',\n",
       " 'Canada',\n",
       " 'Canada',\n",
       " 'Portugal,USA',\n",
       " 'Portugal,USA',\n",
       " 'Portugal,USA',\n",
       " 'Portugal,USA',\n",
       " 'Portugal,USA',\n",
       " 'Portugal,USA',\n",
       " 'Portugal,USA',\n",
       " 'Portugal,USA',\n",
       " 'Canada,USA',\n",
       " 'Canada,USA',\n",
       " 'Canada,USA',\n",
       " 'Canada,USA',\n",
       " 'Canada,USA',\n",
       " 'Canada,USA',\n",
       " 'Canada,USA',\n",
       " 'Germany',\n",
       " 'Germany',\n",
       " 'Argentina',\n",
       " 'Argentina',\n",
       " 'Argentina',\n",
       " 'Argentina',\n",
       " 'Argentina',\n",
       " 'Argentina',\n",
       " 'Argentina',\n",
       " 'Argentina',\n",
       " 'Argentina',\n",
       " 'Argentina',\n",
       " 'Argentina',\n",
       " 'Argentina',\n",
       " 'England,Spain,United Kingdom',\n",
       " 'England,Spain,United Kingdom',\n",
       " 'England,Spain,United Kingdom',\n",
       " 'England,Spain,United Kingdom',\n",
       " 'England,Spain,United Kingdom',\n",
       " 'England,Spain,United Kingdom',\n",
       " 'England,Spain,United Kingdom',\n",
       " 'England,Spain,United Kingdom',\n",
       " 'England,Spain,United Kingdom',\n",
       " 'USA',\n",
       " 'England,United Kingdom,USA',\n",
       " 'England,United Kingdom,USA',\n",
       " 'England,United Kingdom,USA',\n",
       " 'England,United Kingdom,USA',\n",
       " 'England,United Kingdom,USA',\n",
       " 'Canada',\n",
       " 'Canada',\n",
       " 'Canada',\n",
       " 'Canada',\n",
       " 'Canada',\n",
       " 'Canada',\n",
       " 'Canada',\n",
       " 'Canada',\n",
       " 'Canada',\n",
       " 'Canada',\n",
       " 'Canada',\n",
       " 'Canada',\n",
       " 'South Africa,USA,Zimbabwe',\n",
       " 'South Africa,USA,Zimbabwe',\n",
       " 'South Africa,USA,Zimbabwe',\n",
       " 'France,Germany',\n",
       " 'France,Germany',\n",
       " 'France,Germany',\n",
       " 'France,Germany',\n",
       " 'Antarctica',\n",
       " 'Antarctica',\n",
       " 'Antarctica',\n",
       " 'Antarctica',\n",
       " 'Antarctica',\n",
       " 'USA',\n",
       " 'USA',\n",
       " 'USA',\n",
       " 'USA',\n",
       " 'USA',\n",
       " 'Canada,USA',\n",
       " 'Canada',\n",
       " 'Canada',\n",
       " 'Canada',\n",
       " 'Canada',\n",
       " 'Canada',\n",
       " 'Canada',\n",
       " 'Canada',\n",
       " 'Canada',\n",
       " 'Canada',\n",
       " 'Canada',\n",
       " 'Argentina',\n",
       " 'Argentina',\n",
       " 'Argentina',\n",
       " 'Argentina',\n",
       " 'Argentina',\n",
       " 'Argentina',\n",
       " 'Canada,USA',\n",
       " 'Canada,USA',\n",
       " 'Canada,USA',\n",
       " 'Canada,USA',\n",
       " 'Canada,USA',\n",
       " 'Canada,USA',\n",
       " 'Canada,USA',\n",
       " 'Canada,USA',\n",
       " 'Canada,USA',\n",
       " 'Canada,USA',\n",
       " 'Canada,USA',\n",
       " 'Argentina',\n",
       " 'Argentina',\n",
       " 'Argentina',\n",
       " 'Argentina',\n",
       " 'Argentina',\n",
       " 'Argentina',\n",
       " 'Argentina',\n",
       " 'Argentina',\n",
       " 'Argentina',\n",
       " 'Argentina',\n",
       " 'Argentina',\n",
       " 'USA',\n",
       " 'USA',\n",
       " 'USA',\n",
       " 'USA',\n",
       " 'USA',\n",
       " 'USA',\n",
       " 'USA',\n",
       " 'USA',\n",
       " 'USA',\n",
       " 'USA',\n",
       " 'USA',\n",
       " 'England,Spain,United Kingdom',\n",
       " 'Belgium,England,USA',\n",
       " 'Belgium,England,USA',\n",
       " 'Belgium,England,USA',\n",
       " 'Belgium,England,USA',\n",
       " 'Belgium,England,USA',\n",
       " 'Belgium,England,USA',\n",
       " 'Belgium,England,USA',\n",
       " 'Belgium,England,USA',\n",
       " 'Belgium,England,USA',\n",
       " 'Belgium,England,USA',\n",
       " 'Belgium,England,USA',\n",
       " 'Belgium,England,USA',\n",
       " 'Belgium,England,USA',\n",
       " 'Belgium,England,USA',\n",
       " 'Belgium,England,USA',\n",
       " 'Belgium,England,USA',\n",
       " 'Belgium,England,USA',\n",
       " 'Belgium,England,USA',\n",
       " 'Lesotho',\n",
       " 'Lesotho',\n",
       " 'Lesotho',\n",
       " 'Lesotho',\n",
       " 'Lesotho',\n",
       " 'Lesotho',\n",
       " 'Lesotho',\n",
       " 'Lesotho',\n",
       " 'Lesotho',\n",
       " 'Lesotho',\n",
       " 'Lesotho',\n",
       " 'Lesotho',\n",
       " 'Lesotho',\n",
       " 'Lesotho',\n",
       " 'Lesotho',\n",
       " 'Lesotho',\n",
       " 'Lesotho',\n",
       " 'Lesotho',\n",
       " 'Lesotho',\n",
       " 'Lesotho',\n",
       " 'Lesotho',\n",
       " 'Lesotho',\n",
       " 'Lesotho',\n",
       " 'Lesotho',\n",
       " 'China',\n",
       " 'China',\n",
       " 'China',\n",
       " 'China',\n",
       " 'China',\n",
       " 'China',\n",
       " 'China',\n",
       " 'China',\n",
       " 'China',\n",
       " 'China',\n",
       " 'China',\n",
       " 'China',\n",
       " 'China',\n",
       " 'China',\n",
       " 'China',\n",
       " 'China',\n",
       " 'China',\n",
       " 'China',\n",
       " 'China',\n",
       " 'China',\n",
       " 'China',\n",
       " 'China',\n",
       " 'USA',\n",
       " 'USA',\n",
       " 'USA',\n",
       " 'USA',\n",
       " 'Mongolia',\n",
       " 'Mongolia',\n",
       " 'Mongolia',\n",
       " 'Mongolia',\n",
       " 'Mongolia',\n",
       " 'Mongolia',\n",
       " 'Mongolia',\n",
       " 'Mongolia',\n",
       " 'Mongolia',\n",
       " 'Mongolia',\n",
       " 'Mongolia',\n",
       " 'Mongolia',\n",
       " 'Mongolia',\n",
       " 'Mongolia',\n",
       " 'France,Germany,Switzerland',\n",
       " 'France,Germany,Switzerland',\n",
       " 'France,Germany,Switzerland',\n",
       " 'France,Germany,Switzerland',\n",
       " 'France,Germany,Switzerland',\n",
       " 'France,Germany,Switzerland',\n",
       " 'France,Germany,Switzerland',\n",
       " 'France,Germany,Switzerland',\n",
       " 'France,Germany,Switzerland',\n",
       " 'France,Germany,Switzerland',\n",
       " 'China,Mongolia',\n",
       " 'China,Mongolia',\n",
       " 'China,Mongolia,Russia',\n",
       " 'China,Mongolia,Russia',\n",
       " 'China,Mongolia,Russia',\n",
       " 'China,Mongolia,Russia',\n",
       " 'China,Mongolia,Russia',\n",
       " 'China,Mongolia,Russia',\n",
       " 'China,Mongolia,Russia',\n",
       " 'China,Mongolia,Russia',\n",
       " 'China,Mongolia,Russia',\n",
       " 'China,Mongolia,Russia',\n",
       " 'China,Mongolia,Russia',\n",
       " 'China,Mongolia,Russia',\n",
       " 'China,Mongolia,Russia',\n",
       " 'China,Mongolia,Russia',\n",
       " 'China,Mongolia,Russia',\n",
       " 'China,Mongolia,Russia',\n",
       " 'China,Mongolia,Russia',\n",
       " 'China,Mongolia,Russia',\n",
       " 'China,Mongolia,Russia',\n",
       " 'China,Mongolia,Russia',\n",
       " 'China,Mongolia,Russia',\n",
       " 'China,Mongolia,Russia',\n",
       " 'China,Mongolia,Russia',\n",
       " 'China,Mongolia,Russia',\n",
       " 'China,Mongolia,Russia',\n",
       " 'China,Mongolia,Russia',\n",
       " 'China,Mongolia,Russia',\n",
       " 'China,Mongolia,Russia',\n",
       " 'China,Mongolia,Russia',\n",
       " 'China,Mongolia,Russia',\n",
       " 'China,Mongolia,Russia',\n",
       " 'China,Mongolia,Russia',\n",
       " 'China,Mongolia,Russia',\n",
       " 'Egypt,Morocco',\n",
       " 'Egypt,Morocco',\n",
       " 'Egypt,Morocco',\n",
       " 'Egypt,Morocco',\n",
       " 'Egypt,Morocco',\n",
       " 'Canada',\n",
       " 'Canada',\n",
       " 'Canada',\n",
       " 'Canada',\n",
       " 'Canada',\n",
       " 'Canada',\n",
       " 'Canada',\n",
       " 'Canada',\n",
       " 'Canada',\n",
       " 'Canada',\n",
       " 'Canada',\n",
       " 'Canada',\n",
       " 'Canada',\n",
       " 'Canada',\n",
       " 'Canada',\n",
       " 'Canada',\n",
       " 'USA',\n",
       " 'USA',\n",
       " 'USA',\n",
       " 'USA',\n",
       " 'USA',\n",
       " 'USA',\n",
       " 'Canada,USA',\n",
       " 'Canada,USA',\n",
       " 'Canada,USA',\n",
       " 'Canada,USA',\n",
       " 'USA',\n",
       " 'USA',\n",
       " 'Mongolia',\n",
       " 'Mongolia',\n",
       " 'Mongolia',\n",
       " 'Mongolia',\n",
       " 'Mongolia',\n",
       " 'Mongolia',\n",
       " 'Mongolia',\n",
       " 'Mongolia',\n",
       " 'Mongolia',\n",
       " 'Mongolia',\n",
       " 'Mongolia',\n",
       " 'Mongolia']"
      ]
     },
     "execution_count": 73,
     "metadata": {},
     "output_type": "execute_result"
    }
   ],
   "source": [
    "living_area"
   ]
  },
  {
   "cell_type": "code",
   "execution_count": 81,
   "metadata": {},
   "outputs": [
    {
     "name": "stderr",
     "output_type": "stream",
     "text": [
      "100%|██████████| 309/309 [07:18<00:00,  1.42s/it]\n"
     ]
    }
   ],
   "source": [
    "teeth = []\n",
    "\n",
    "#get living period test\n",
    "for unique_url in tqdm(dinosaur_url):\n",
    "    new_soup = get_page_contents(unique_url)\n",
    "    \n",
    "    try:\n",
    "        if new_soup.find('dl', class_='dinosaur--info dinosaur--list').find_all('dt')[1].text.strip() == 'Teeth:':\n",
    "            teeth_info = new_soup.find('dl', class_='dinosaur--info dinosaur--list').find_all('dd')[1].text.strip()\n",
    "        else:\n",
    "            teeth_info = ''\n",
    "    except IndexError:\n",
    "        teeth_info = ''\n",
    "    teeth.append(teeth_info)"
   ]
  },
  {
   "cell_type": "code",
   "execution_count": 83,
   "metadata": {},
   "outputs": [
    {
     "name": "stderr",
     "output_type": "stream",
     "text": [
      "100%|██████████| 309/309 [00:24<00:00, 12.39it/s]\n"
     ]
    }
   ],
   "source": [
    "food = []\n",
    "\n",
    "#get living period test\n",
    "for unique_url in tqdm(dinosaur_url):\n",
    "    new_soup = get_page_contents(unique_url)\n",
    "    \n",
    "    try:\n",
    "        if new_soup.find('dl', class_='dinosaur--info dinosaur--list').find_all('dt')[2].text.strip() == 'Food:':\n",
    "            food_info = new_soup.find('dl', class_='dinosaur--info dinosaur--list').find_all('dd')[2].text.strip()\n",
    "        else:\n",
    "            food_info = ''\n",
    "    except IndexError:\n",
    "        food_info = ''\n",
    "    food.append(food_info)"
   ]
  },
  {
   "cell_type": "code",
   "execution_count": 85,
   "metadata": {},
   "outputs": [
    {
     "name": "stderr",
     "output_type": "stream",
     "text": [
      "100%|██████████| 309/309 [00:24<00:00, 12.51it/s]\n"
     ]
    }
   ],
   "source": [
    "movement = []\n",
    "\n",
    "#get living period test\n",
    "for unique_url in tqdm(dinosaur_url):\n",
    "    new_soup = get_page_contents(unique_url)\n",
    "    \n",
    "    try:\n",
    "        if new_soup.find('dl', class_='dinosaur--info dinosaur--list').find_all('dt')[3].text.strip() == 'How it moved:':\n",
    "            move = new_soup.find('dl', class_='dinosaur--info dinosaur--list').find_all('dd')[3].text.strip()\n",
    "        else:\n",
    "            move = ''\n",
    "    except IndexError:\n",
    "        move = ''\n",
    "    movement.append(move)"
   ]
  },
  {
   "cell_type": "code",
   "execution_count": 87,
   "metadata": {},
   "outputs": [],
   "source": [
    "df_dict = {'Reference': dinosaur_url, 'Name': dinosaur_name, 'Pronunciation': pronunciation,\n",
    "          'Image_Reference': dino_img, 'Length': length, 'Type': dino_type, 'Diet': diet_type,\n",
    "           'Period': living_period, 'Area': living_area, 'Taxonomy': taxonomy, 'Named_By': named_by,\n",
    "           'Species': species_type, 'Teeth': teeth, 'Food': food, 'Movement': movement\n",
    "          }"
   ]
  },
  {
   "cell_type": "code",
   "execution_count": 88,
   "metadata": {},
   "outputs": [],
   "source": [
    "df = pd.DataFrame(df_dict)"
   ]
  },
  {
   "cell_type": "code",
   "execution_count": 89,
   "metadata": {
    "scrolled": true
   },
   "outputs": [
    {
     "name": "stdout",
     "output_type": "stream",
     "text": [
      "<class 'pandas.core.frame.DataFrame'>\n",
      "RangeIndex: 309 entries, 0 to 308\n",
      "Data columns (total 15 columns):\n",
      " #   Column           Non-Null Count  Dtype \n",
      "---  ------           --------------  ----- \n",
      " 0   Reference        309 non-null    object\n",
      " 1   Name             309 non-null    object\n",
      " 2   Pronunciation    309 non-null    object\n",
      " 3   Image_Reference  309 non-null    object\n",
      " 4   Length           309 non-null    object\n",
      " 5   Type             309 non-null    object\n",
      " 6   Diet             309 non-null    object\n",
      " 7   Period           309 non-null    object\n",
      " 8   Area             309 non-null    object\n",
      " 9   Taxonomy         309 non-null    object\n",
      " 10  Named_By         309 non-null    object\n",
      " 11  Species          309 non-null    object\n",
      " 12  Teeth            309 non-null    object\n",
      " 13  Food             309 non-null    object\n",
      " 14  Movement         309 non-null    object\n",
      "dtypes: object(15)\n",
      "memory usage: 36.3+ KB\n"
     ]
    }
   ],
   "source": [
    "df.info()"
   ]
  },
  {
   "cell_type": "code",
   "execution_count": 90,
   "metadata": {},
   "outputs": [],
   "source": [
    "df.to_csv('dinosaur_data.csv')"
   ]
  }
 ],
 "metadata": {
  "kernelspec": {
   "display_name": "Python 3",
   "language": "python",
   "name": "python3"
  },
  "language_info": {
   "codemirror_mode": {
    "name": "ipython",
    "version": 3
   },
   "file_extension": ".py",
   "mimetype": "text/x-python",
   "name": "python",
   "nbconvert_exporter": "python",
   "pygments_lexer": "ipython3",
   "version": "3.7.6"
  }
 },
 "nbformat": 4,
 "nbformat_minor": 4
}
