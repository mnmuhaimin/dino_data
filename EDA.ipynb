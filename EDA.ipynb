{
 "cells": [
  {
   "cell_type": "code",
   "execution_count": 1,
   "metadata": {},
   "outputs": [],
   "source": [
    "import pandas as pd\n",
    "import re\n",
    "import numpy as np\n",
    "import matplotlib as mpl\n",
    "import matplotlib.pyplot as plt\n",
    "import seaborn as sns"
   ]
  },
  {
   "cell_type": "code",
   "execution_count": 2,
   "metadata": {},
   "outputs": [],
   "source": [
    "df = pd.read_csv('dino_data_clean.csv')"
   ]
  },
  {
   "cell_type": "code",
   "execution_count": 3,
   "metadata": {},
   "outputs": [
    {
     "data": {
      "text/html": [
       "<div>\n",
       "<style scoped>\n",
       "    .dataframe tbody tr th:only-of-type {\n",
       "        vertical-align: middle;\n",
       "    }\n",
       "\n",
       "    .dataframe tbody tr th {\n",
       "        vertical-align: top;\n",
       "    }\n",
       "\n",
       "    .dataframe thead th {\n",
       "        text-align: right;\n",
       "    }\n",
       "</style>\n",
       "<table border=\"1\" class=\"dataframe\">\n",
       "  <thead>\n",
       "    <tr style=\"text-align: right;\">\n",
       "      <th></th>\n",
       "      <th>Reference</th>\n",
       "      <th>Name</th>\n",
       "      <th>Pronunciation</th>\n",
       "      <th>Image_Reference</th>\n",
       "      <th>Type</th>\n",
       "      <th>Diet</th>\n",
       "      <th>Area</th>\n",
       "      <th>Taxonomy</th>\n",
       "      <th>Named_By</th>\n",
       "      <th>Species</th>\n",
       "      <th>...</th>\n",
       "      <th>taxonomy_level_8</th>\n",
       "      <th>taxonomy_level_9</th>\n",
       "      <th>taxonomy_level_10</th>\n",
       "      <th>taxonomy_level_11</th>\n",
       "      <th>taxonomy_level_12</th>\n",
       "      <th>taxonomy_level_13</th>\n",
       "      <th>taxonomy_level_14</th>\n",
       "      <th>taxonomy_level_15</th>\n",
       "      <th>taxonomy_level_16</th>\n",
       "      <th>named_by_year</th>\n",
       "    </tr>\n",
       "  </thead>\n",
       "  <tbody>\n",
       "    <tr>\n",
       "      <th>0</th>\n",
       "      <td>https://www.nhm.ac.uk/discover/dino-directory/...</td>\n",
       "      <td>Aardonyx</td>\n",
       "      <td>ar-don-ix</td>\n",
       "      <td>https://www.nhm.ac.uk/resources/nature-online/...</td>\n",
       "      <td>sauropod</td>\n",
       "      <td>herbivorous</td>\n",
       "      <td>Mongolia</td>\n",
       "      <td>Dinosauria &gt; Saurischia &gt; Sauropodomorpha &gt; Pr...</td>\n",
       "      <td>Yates, Bonnan, Neveling, Chinsamy and Blackbea...</td>\n",
       "      <td>celestae</td>\n",
       "      <td>...</td>\n",
       "      <td>NaN</td>\n",
       "      <td>NaN</td>\n",
       "      <td>NaN</td>\n",
       "      <td>NaN</td>\n",
       "      <td>NaN</td>\n",
       "      <td>NaN</td>\n",
       "      <td>NaN</td>\n",
       "      <td>NaN</td>\n",
       "      <td>NaN</td>\n",
       "      <td>2009.0</td>\n",
       "    </tr>\n",
       "    <tr>\n",
       "      <th>1</th>\n",
       "      <td>https://www.nhm.ac.uk/discover/dino-directory/...</td>\n",
       "      <td>Abelisaurus</td>\n",
       "      <td>ah-BEEL-ee-sore-us</td>\n",
       "      <td>https://www.nhm.ac.uk/resources/nature-online/...</td>\n",
       "      <td>large theropod</td>\n",
       "      <td>carnivorous</td>\n",
       "      <td>Mongolia</td>\n",
       "      <td>Dinosauria &gt; Saurischia &gt; Theropoda &gt; Neothero...</td>\n",
       "      <td>Bonaparte and Novas (1985)</td>\n",
       "      <td>comahuensis</td>\n",
       "      <td>...</td>\n",
       "      <td>NaN</td>\n",
       "      <td>NaN</td>\n",
       "      <td>NaN</td>\n",
       "      <td>NaN</td>\n",
       "      <td>NaN</td>\n",
       "      <td>NaN</td>\n",
       "      <td>NaN</td>\n",
       "      <td>NaN</td>\n",
       "      <td>NaN</td>\n",
       "      <td>1985.0</td>\n",
       "    </tr>\n",
       "    <tr>\n",
       "      <th>2</th>\n",
       "      <td>https://www.nhm.ac.uk/discover/dino-directory/...</td>\n",
       "      <td>Achelousaurus</td>\n",
       "      <td>ah-KEL-oo-SORE-us</td>\n",
       "      <td>https://www.nhm.ac.uk/resources/nature-online/...</td>\n",
       "      <td>ceratopsian</td>\n",
       "      <td>herbivorous</td>\n",
       "      <td>Mongolia</td>\n",
       "      <td>Dinosauria &gt; Ornithischia &gt; Genasauria &gt; Cerap...</td>\n",
       "      <td>Sampson  (1995)</td>\n",
       "      <td>horneri</td>\n",
       "      <td>...</td>\n",
       "      <td>Ceratopsidae</td>\n",
       "      <td>Centrosaurinae</td>\n",
       "      <td>NaN</td>\n",
       "      <td>NaN</td>\n",
       "      <td>NaN</td>\n",
       "      <td>NaN</td>\n",
       "      <td>NaN</td>\n",
       "      <td>NaN</td>\n",
       "      <td>NaN</td>\n",
       "      <td>1995.0</td>\n",
       "    </tr>\n",
       "    <tr>\n",
       "      <th>3</th>\n",
       "      <td>https://www.nhm.ac.uk/discover/dino-directory/...</td>\n",
       "      <td>Achillobator</td>\n",
       "      <td>a-kil-oh-bah-tor</td>\n",
       "      <td>https://www.nhm.ac.uk/resources/nature-online/...</td>\n",
       "      <td>large theropod</td>\n",
       "      <td>carnivorous</td>\n",
       "      <td>Mongolia</td>\n",
       "      <td>Dinosauria &gt; Saurischia &gt; Theropoda &gt; Neothero...</td>\n",
       "      <td>Perle, Norell and Clark (1999)</td>\n",
       "      <td>giganteus</td>\n",
       "      <td>...</td>\n",
       "      <td>Maniraptoriformes</td>\n",
       "      <td>Maniraptora</td>\n",
       "      <td>Paraves</td>\n",
       "      <td>Eumaniraptora</td>\n",
       "      <td>Dromaeosauridae</td>\n",
       "      <td>NaN</td>\n",
       "      <td>NaN</td>\n",
       "      <td>NaN</td>\n",
       "      <td>NaN</td>\n",
       "      <td>1999.0</td>\n",
       "    </tr>\n",
       "    <tr>\n",
       "      <th>4</th>\n",
       "      <td>https://www.nhm.ac.uk/discover/dino-directory/...</td>\n",
       "      <td>Acrocanthosaurus</td>\n",
       "      <td>ah-kroh-kan-tho-SORE-us</td>\n",
       "      <td>https://www.nhm.ac.uk/resources/nature-online/...</td>\n",
       "      <td>large theropod</td>\n",
       "      <td>carnivorous</td>\n",
       "      <td>Mongolia</td>\n",
       "      <td>Dinosauria &gt; Saurischia &gt; Theropoda &gt; Neothero...</td>\n",
       "      <td>Stovall and Langston (1950)</td>\n",
       "      <td>atokensis</td>\n",
       "      <td>...</td>\n",
       "      <td>Carcharodontosauridae</td>\n",
       "      <td>NaN</td>\n",
       "      <td>NaN</td>\n",
       "      <td>NaN</td>\n",
       "      <td>NaN</td>\n",
       "      <td>NaN</td>\n",
       "      <td>NaN</td>\n",
       "      <td>NaN</td>\n",
       "      <td>NaN</td>\n",
       "      <td>1950.0</td>\n",
       "    </tr>\n",
       "  </tbody>\n",
       "</table>\n",
       "<p>5 rows × 37 columns</p>\n",
       "</div>"
      ],
      "text/plain": [
       "                                           Reference              Name  \\\n",
       "0  https://www.nhm.ac.uk/discover/dino-directory/...          Aardonyx   \n",
       "1  https://www.nhm.ac.uk/discover/dino-directory/...       Abelisaurus   \n",
       "2  https://www.nhm.ac.uk/discover/dino-directory/...     Achelousaurus   \n",
       "3  https://www.nhm.ac.uk/discover/dino-directory/...      Achillobator   \n",
       "4  https://www.nhm.ac.uk/discover/dino-directory/...  Acrocanthosaurus   \n",
       "\n",
       "             Pronunciation                                    Image_Reference  \\\n",
       "0                ar-don-ix  https://www.nhm.ac.uk/resources/nature-online/...   \n",
       "1       ah-BEEL-ee-sore-us  https://www.nhm.ac.uk/resources/nature-online/...   \n",
       "2        ah-KEL-oo-SORE-us  https://www.nhm.ac.uk/resources/nature-online/...   \n",
       "3         a-kil-oh-bah-tor  https://www.nhm.ac.uk/resources/nature-online/...   \n",
       "4  ah-kroh-kan-tho-SORE-us  https://www.nhm.ac.uk/resources/nature-online/...   \n",
       "\n",
       "             Type         Diet      Area  \\\n",
       "0        sauropod  herbivorous  Mongolia   \n",
       "1  large theropod  carnivorous  Mongolia   \n",
       "2     ceratopsian  herbivorous  Mongolia   \n",
       "3  large theropod  carnivorous  Mongolia   \n",
       "4  large theropod  carnivorous  Mongolia   \n",
       "\n",
       "                                            Taxonomy  \\\n",
       "0  Dinosauria > Saurischia > Sauropodomorpha > Pr...   \n",
       "1  Dinosauria > Saurischia > Theropoda > Neothero...   \n",
       "2  Dinosauria > Ornithischia > Genasauria > Cerap...   \n",
       "3  Dinosauria > Saurischia > Theropoda > Neothero...   \n",
       "4  Dinosauria > Saurischia > Theropoda > Neothero...   \n",
       "\n",
       "                                            Named_By      Species  ...  \\\n",
       "0  Yates, Bonnan, Neveling, Chinsamy and Blackbea...     celestae  ...   \n",
       "1                         Bonaparte and Novas (1985)  comahuensis  ...   \n",
       "2                                    Sampson  (1995)      horneri  ...   \n",
       "3                     Perle, Norell and Clark (1999)    giganteus  ...   \n",
       "4                        Stovall and Langston (1950)    atokensis  ...   \n",
       "\n",
       "         taxonomy_level_8 taxonomy_level_9 taxonomy_level_10  \\\n",
       "0                     NaN              NaN               NaN   \n",
       "1                     NaN              NaN               NaN   \n",
       "2           Ceratopsidae    Centrosaurinae               NaN   \n",
       "3      Maniraptoriformes      Maniraptora           Paraves    \n",
       "4   Carcharodontosauridae              NaN               NaN   \n",
       "\n",
       "   taxonomy_level_11 taxonomy_level_12 taxonomy_level_13  taxonomy_level_14  \\\n",
       "0                NaN               NaN               NaN                NaN   \n",
       "1                NaN               NaN               NaN                NaN   \n",
       "2                NaN               NaN               NaN                NaN   \n",
       "3     Eumaniraptora    Dromaeosauridae               NaN                NaN   \n",
       "4                NaN               NaN               NaN                NaN   \n",
       "\n",
       "   taxonomy_level_15  taxonomy_level_16 named_by_year  \n",
       "0                NaN                NaN        2009.0  \n",
       "1                NaN                NaN        1985.0  \n",
       "2                NaN                NaN        1995.0  \n",
       "3                NaN                NaN        1999.0  \n",
       "4                NaN                NaN        1950.0  \n",
       "\n",
       "[5 rows x 37 columns]"
      ]
     },
     "execution_count": 3,
     "metadata": {},
     "output_type": "execute_result"
    }
   ],
   "source": [
    "df.head()"
   ]
  },
  {
   "cell_type": "code",
   "execution_count": 4,
   "metadata": {},
   "outputs": [
    {
     "data": {
      "text/plain": [
       "Index(['Reference', 'Name', 'Pronunciation', 'Image_Reference', 'Type', 'Diet',\n",
       "       'Area', 'Taxonomy', 'Named_By', 'Species', 'Teeth', 'Food', 'Movement',\n",
       "       'length_in_meter', 'period_group', 'period_specific', 'earliest_period',\n",
       "       'latest_period', 'estimated_living_duration', 'taxonomy_level_0',\n",
       "       'taxonomy_level_1', 'taxonomy_level_2', 'taxonomy_level_3',\n",
       "       'taxonomy_level_4', 'taxonomy_level_5', 'taxonomy_level_6',\n",
       "       'taxonomy_level_7', 'taxonomy_level_8', 'taxonomy_level_9',\n",
       "       'taxonomy_level_10', 'taxonomy_level_11', 'taxonomy_level_12',\n",
       "       'taxonomy_level_13', 'taxonomy_level_14', 'taxonomy_level_15',\n",
       "       'taxonomy_level_16', 'named_by_year'],\n",
       "      dtype='object')"
      ]
     },
     "execution_count": 4,
     "metadata": {},
     "output_type": "execute_result"
    }
   ],
   "source": [
    "df.columns"
   ]
  },
  {
   "cell_type": "code",
   "execution_count": 5,
   "metadata": {},
   "outputs": [],
   "source": [
    "type_groupby = df.groupby('Type')['Type'].count().sort_values(ascending = False)"
   ]
  },
  {
   "cell_type": "code",
   "execution_count": 6,
   "metadata": {},
   "outputs": [],
   "source": [
    "cmap = plt.get_cmap('tab20')"
   ]
  },
  {
   "cell_type": "code",
   "execution_count": 11,
   "metadata": {},
   "outputs": [
    {
     "data": {
      "image/png": "[encoded data removed]",
      "text/plain": [
       "<Figure size 720x360 with 1 Axes>"
      ]
     },
     "metadata": {},
     "output_type": "display_data"
    }
   ],
   "source": [
    "mpl.style.use('seaborn-darkgrid')\n",
    "type_groupby.plot(kind = 'bar', title = 'Dinosaur Type', \n",
    "                  color = cmap(np.linspace(0, 1, type_groupby.nunique() + 1)), figsize = (10,5))\n",
    "\n",
    "plt.title('Dinosaur Type')\n",
    "plt.xlabel('Type')\n",
    "plt.ylabel('Number of Dinosaur')\n",
    "plt.xticks(rotation = 30, horizontalalignment = 'center')\n",
    "\n",
    "plt.show()"
   ]
  },
  {
   "cell_type": "code",
   "execution_count": 10,
   "metadata": {},
   "outputs": [],
   "source": [
    "diet_groupby = df.groupby('Diet')['Diet'].count().sort_values(ascending = False)"
   ]
  },
  {
   "cell_type": "code",
   "execution_count": 13,
   "metadata": {},
   "outputs": [
    {
     "data": {
      "image/png": "[encoded data removed]",
      "text/plain": [
       "<Figure size 720x360 with 1 Axes>"
      ]
     },
     "metadata": {},
     "output_type": "display_data"
    }
   ],
   "source": [
    "mpl.style.use('seaborn-darkgrid')\n",
    "diet_groupby.plot(kind = 'bar', title = 'Dinosaur Diet Type', \n",
    "                  color = cmap(np.linspace(0, 1, diet_groupby.nunique() + 1)), figsize = (10,5))\n",
    "\n",
    "plt.title('Diet Type')\n",
    "plt.xlabel('Diet')\n",
    "plt.ylabel('Number of Dinosaur')\n",
    "plt.xticks(rotation = 30, horizontalalignment = 'center')\n",
    "\n",
    "plt.show()"
   ]
  }
 ],
 "metadata": {
  "kernelspec": {
   "display_name": "Python 3",
   "language": "python",
   "name": "python3"
  },
  "language_info": {
   "codemirror_mode": {
    "name": "ipython",
    "version": 3
   },
   "file_extension": ".py",
   "mimetype": "text/x-python",
   "name": "python",
   "nbconvert_exporter": "python",
   "pygments_lexer": "ipython3",
   "version": "3.7.6"
  }
 },
 "nbformat": 4,
 "nbformat_minor": 4
}
